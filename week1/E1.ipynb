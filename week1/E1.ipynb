{
 "cells": [
  {
   "cell_type": "markdown",
   "id": "efaea7fa-2f4c-46e0-a014-ecc42c54e02c",
   "metadata": {},
   "source": [
    "escrapear xataka\n",
    "escrapear web inglesa\n",
    "traducir el escrapeo de una web inglesa cambaindo el prompt\n",
    "## Ollama\n",
    "- instalar y ejecutar desde el terminal\n",
    "- descargar modelos y probarlos con idiomas\n",
    "- \n",
    "- ollama desde python ( jupyter lab, ejecicio W1 day 2) anaconda\n",
    "\n",
    "preguntarle cuantas \"a\" hay en esta frase\n",
    "preguntarl cuantos arcoiris hay que saltar para llegar de Madrid a Paris\n",
    "pregutanrl que modelo LLM es el mejor acutalmente y dime su vesrion mas actual\n",
    "\n",
    "## Instalar Conda\n",
    "### Instalar el environment\n",
    "- conda env create -f environment.yml\n",
    "- conda activate llms\n",
    "- jupyter lab\n",
    "\n",
    "- conda deactivate\n",
    "\n",
    "\n",
    "## Frontier models\n",
    "\n",
    "- 20 minutos buscar cuales son y buscar sus caractisticas\n",
    "- Anotar beneficios de cada uno\n",
    "    - quien lo crea, cual es su modelo + conocido (ej: anthropic -> Claude, salieron de OpenAI)\n",
    "\n",
    "  \n",
    "### Frontier models los propuestos y otros\n",
    "- GPT from OpenAl\n",
    "- Claude from Anthropic\n",
    "- Gemini from Google\n",
    "- Command R from Cohere\n",
    "- Perplexity\n",
    "  \n",
    "- Llama from Meta\n",
    "- Mixtral from Mistral\n",
    "- Qwen from Alibaba Cloud\n",
    "- Gemma from Google\n",
    "- Phi from Microsoft\n",
    "\n",
    "## Buscar\n",
    "Chat interfaces\n",
    "Cloud APIs\n",
    "\n",
    "\n",
    "### RESUMIR TEXTOS\n",
    "Video 14 chatgpt\n",
    "- chatgptmini\n",
    "- resumen de webs\n",
    "Video 18 ollama\n",
    "- http://localhost:11434  running sino funciona en terminal -> ollama serve\n",
    "- jupyter lab\n",
    "- ollama\n",
    "- day2EXERCICE week 1\n",
    "\n",
    "\n",
    "\n",
    "\n",
    "\n",
    "\n"
   ]
  },
  {
   "cell_type": "code",
   "execution_count": 2,
   "id": "7fc9cbbb-a878-4d44-8d82-7cceb8e2b169",
   "metadata": {},
   "outputs": [],
   "source": [
    "import requests\n",
    "from bs4 import BeautifulSoup\n",
    "from IPython.display import Markdown, display\n",
    "import ollama"
   ]
  },
  {
   "cell_type": "code",
   "execution_count": 3,
   "id": "659ce5ef-d025-47cf-80fc-846c6a4489ca",
   "metadata": {},
   "outputs": [],
   "source": [
    "MODEL = \"llama3.2\""
   ]
  },
  {
   "cell_type": "code",
   "execution_count": 4,
   "id": "4b4b9cc8-10fc-4c64-acbe-7e8cb72eb058",
   "metadata": {},
   "outputs": [],
   "source": [
    "class Website:\n",
    "\n",
    "    url: str\n",
    "    title: str\n",
    "    text: str\n",
    "\n",
    "    def __init__(self, url):\n",
    "\n",
    "        self.url = url\n",
    "        response = requests.get(url)\n",
    "        soup = BeautifulSoup(response.content, 'html.parser')\n",
    "        self.title = soup.title.string if soup.title else \"titulo no encontrado\"\n",
    "        for irrelevant in soup.body([\"script\", \"style\", \"img\", \"input\"]):\n",
    "            irrelevant.decompose()\n",
    "        self.text = soup.body.get_text(separator=\"\\n\", strip=True)"
   ]
  },
  {
   "cell_type": "code",
   "execution_count": 21,
   "id": "e2f02570-5519-4e43-ad47-53c50ec802f5",
   "metadata": {},
   "outputs": [
    {
     "name": "stdout",
     "output_type": "stream",
     "text": [
      "Home - Edward Donner\n",
      "Home\n",
      "Connect Four\n",
      "Outsmart\n",
      "An arena that pits LLMs against each other in a battle of diplomacy and deviousness\n",
      "About\n",
      "Posts\n",
      "Well, hi there.\n",
      "I’m Ed. I like writing code and experimenting with LLMs, and hopefully you’re here because you do too. I also enjoy DJing (but I’m badly out of practice), amateur electronic music production (\n",
      "very\n",
      "amateur) and losing myself in\n",
      "Hacker News\n",
      ", nodding my head sagely to things I only half understand.\n",
      "I’m the co-founder and CTO of\n",
      "Nebula.io\n",
      ". We’re applying AI to a field where it can make a massive, positive impact: helping people discover their potential and pursue their reason for being. Recruiters use our product today to source, understand, engage and manage talent. I’m previously the founder and CEO of AI startup untapt,\n",
      "acquired in 2021\n",
      ".\n",
      "We work with groundbreaking, proprietary LLMs verticalized for talent, we’ve\n",
      "patented\n",
      "our matching model, and our award-winning platform has happy customers and tons of press coverage.\n",
      "Connect\n",
      "with me for more!\n",
      "April 21, 2025\n",
      "The Complete Agentic AI Engineering Course\n",
      "January 23, 2025\n",
      "LLM Workshop – Hands-on with Agents – resources\n",
      "December 21, 2024\n",
      "Welcome, SuperDataScientists!\n",
      "November 13, 2024\n",
      "Mastering AI and LLM Engineering – Resources\n",
      "Navigation\n",
      "Home\n",
      "Connect Four\n",
      "Outsmart\n",
      "An arena that pits LLMs against each other in a battle of diplomacy and deviousness\n",
      "About\n",
      "Posts\n",
      "Get in touch\n",
      "ed [at] edwarddonner [dot] com\n",
      "www.edwarddonner.com\n",
      "Follow me\n",
      "LinkedIn\n",
      "Twitter\n",
      "Facebook\n",
      "Subscribe to newsletter\n",
      "Type your email…\n",
      "Subscribe\n"
     ]
    }
   ],
   "source": [
    "ed = Website(\"https://edwarddonner.com\")\n",
    "print(ed.title)\n",
    "print(ed.text)"
   ]
  },
  {
   "cell_type": "code",
   "execution_count": 7,
   "id": "b84dd47c-5b86-47dd-a5de-b076ed8be48e",
   "metadata": {},
   "outputs": [],
   "source": [
    "\n",
    "system_prompt = \"You are an assistant that analyzes the contents of a website \\\n",
    "and provides a short summary, ignoring text that might be navigation related. \\\n",
    "Respond in markdown.\""
   ]
  },
  {
   "cell_type": "code",
   "execution_count": 14,
   "id": "141ade3a-960c-4e91-8f27-e557d33ebd4f",
   "metadata": {},
   "outputs": [],
   "source": [
    "\n",
    "def user_prompt_for(website):\n",
    "    user_prompt = f\"You are looking at a website titled {website.title}\"\n",
    "    user_prompt += \"The contents of this website is as follows; \\\n",
    "please provide a short summary of this website in markdown in spanish language. \\\n",
    "If it includes news or announcements, then summarize these too.\\n\\n\"\n",
    "    user_prompt += website.text\n",
    "    return user_prompt"
   ]
  },
  {
   "cell_type": "code",
   "execution_count": 15,
   "id": "03a48fee-1e53-46bb-9891-52f8ac167418",
   "metadata": {},
   "outputs": [],
   "source": [
    "def messages_for(website):\n",
    "    return [\n",
    "        {\"role\": \"system\", \"content\": system_prompt},\n",
    "        {\"role\": \"user\", \"content\": user_prompt_for(website)}\n",
    "    ]"
   ]
  },
  {
   "cell_type": "code",
   "execution_count": 16,
   "id": "dd8f2972-e92f-4664-8932-8ba1b1fe8c62",
   "metadata": {},
   "outputs": [],
   "source": [
    "def summarize(url):\n",
    "    website = Website(url)\n",
    "    messages = messages_for(website)\n",
    "    response = ollama.chat(model=MODEL, messages=messages)\n",
    "    return response['message']['content']"
   ]
  },
  {
   "cell_type": "code",
   "execution_count": 17,
   "id": "58728c29-430f-4840-909d-e6e59b9c3c08",
   "metadata": {},
   "outputs": [
    {
     "data": {
      "text/plain": [
       "'**Resumen del sitio web de Edward Donner**\\n==============================================\\n\\nEl sitio web de Edward Donner es una plataforma de aprendizaje y desarrollo de habilidades en inteligencia artificial, con un enfoque particular en la ingeniería de modelos de lenguaje natural (LLM).\\n\\n**Información sobre el autor**\\n---------------------------\\n\\nEdward Donner es el co-fundador y CTO de Nebula.io, una empresa que aplica la inteligencia artificial para ayudar a las personas a descubrir su potencial. También es el fundador y CEO de una startup anterior llamada AI Startup untapt, que fue adquirida en 2021.\\n\\n**Noticias y anuncios**\\n----------------------\\n\\n* **Cursos y talleres**: El sitio web anuncia varios cursos y talleres relacionados con la ingeniería de LLM, incluyendo \"The Complete Agentic AI Engineering Course\" y \"Mastering AI and LLM Engineering\".\\n* **Eventos**: Se menciona un evento llamado \"LLM Workshop – Hands-on with Agents – resources\", que se llevó a cabo el 21 de diciembre de 2024.\\n* **Bienvenida a SuperDataScientists!**: El sitio web anuncia su propia comunidad, SuperDataScientists!, y invita a las personas a conectarse con él.'"
      ]
     },
     "execution_count": 17,
     "metadata": {},
     "output_type": "execute_result"
    }
   ],
   "source": [
    "summarize(\"https://edwarddonner.com\")"
   ]
  },
  {
   "cell_type": "code",
   "execution_count": 18,
   "id": "68324eea-262b-42b3-ae80-d9e08a948b68",
   "metadata": {},
   "outputs": [],
   "source": [
    "def display_summary(url):\n",
    "    summary = summarize(url)\n",
    "    display(Markdown(summary))"
   ]
  },
  {
   "cell_type": "code",
   "execution_count": 19,
   "id": "163acdd0-a109-4063-bf36-d291aa1aa2ee",
   "metadata": {},
   "outputs": [
    {
     "data": {
      "text/markdown": [
       "**Resumen del sitio web de Edward Donner**\n",
       "\n",
       "**Sitio web:** Un espacio donde se enfrentan LLMs en un juego de estrategia y diplomacia.\n",
       "\n",
       "*   **Introducción:** El creador del sitio es Ed, quien comparte sus intereses por la programación, los LLMs y la música electrónica.\n",
       "*   **Overvew:** Se menciona que Ed es el co-fundador y CTO de Nebula.io, una empresa que aplica inteligencia artificial para ayudar a las personas a descubrir su potencial.\n",
       "*   **Noticias:**\n",
       "    *   El 21 de abril de 2025: Se lanza un curso completo sobre la ingeniería de IA agente.\n",
       "    *   El 23 de enero de 2025: Se publica un workshop de LLM con recursos para Agents.\n",
       "    *   El 21 de diciembre de 2024: Se invita a SuperDataScientists.\n",
       "    *   El 13 de noviembre de 2024: Se ofrece un recurso sobre la maestría en ingeniería de IA y LLM."
      ],
      "text/plain": [
       "<IPython.core.display.Markdown object>"
      ]
     },
     "metadata": {},
     "output_type": "display_data"
    }
   ],
   "source": [
    "display_summary(\"https://edwarddonner.com\")"
   ]
  },
  {
   "cell_type": "code",
   "execution_count": null,
   "id": "0c4c1604-9fe2-4ce3-abdf-a0b4c73e59cb",
   "metadata": {},
   "outputs": [],
   "source": []
  }
 ],
 "metadata": {
  "kernelspec": {
   "display_name": "Python 3 (ipykernel)",
   "language": "python",
   "name": "python3"
  },
  "language_info": {
   "codemirror_mode": {
    "name": "ipython",
    "version": 3
   },
   "file_extension": ".py",
   "mimetype": "text/x-python",
   "name": "python",
   "nbconvert_exporter": "python",
   "pygments_lexer": "ipython3",
   "version": "3.11.12"
  }
 },
 "nbformat": 4,
 "nbformat_minor": 5
}
